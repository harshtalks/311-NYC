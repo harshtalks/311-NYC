{
 "cells": [
  {
   "cell_type": "markdown",
   "metadata": {
    "collapsed": true,
    "pycharm": {
     "name": "#%% md\n"
    }
   },
   "source": [
    "# 311 Call Prediction - weekly"
   ]
  },
  {
   "cell_type": "markdown",
   "source": [
    "## what is 311?\n",
    "##### 311 is a national service in the United States and in Canada that provides information about non-emergency municipal services. The service allows you to report that the trash collectors did not arrive to take your garbage or to find out how to get leaves and shrubs removed from the common area in front of your residence. The volume of calls to 311 vary, but in large cities and municipalities, it can range from thousands to tens of thousands of calls per month."
   ],
   "metadata": {
    "collapsed": false,
    "pycharm": {
     "name": "#%% md\n"
    }
   }
  },
  {
   "cell_type": "code",
   "execution_count": 1,
   "outputs": [],
   "source": [
    "import numpy as np\n",
    "import tensorflow as tf\n",
    "import tensorflow.compat.v1 as tfv\n",
    "import csv\n",
    "import time\n",
    "import functools\n",
    "from sklearn.model_selection import train_test_split"
   ],
   "metadata": {
    "collapsed": false,
    "pycharm": {
     "name": "#%%\n"
    }
   }
  },
  {
   "cell_type": "markdown",
   "source": [
    "# Data Wrangling - not really fun"
   ],
   "metadata": {
    "collapsed": false,
    "pycharm": {
     "name": "#%% md\n"
    }
   }
  },
  {
   "cell_type": "code",
   "execution_count": 2,
   "outputs": [],
   "source": [
    "def read(filename, date_idx, date_parse, year = None, bucket = 7):\n",
    "    days_in_year = 365\n",
    "\n",
    "    freq = {}\n",
    "\n",
    "    if year != None:\n",
    "        for period in range(int(days_in_year/bucket)):\n",
    "            freq[period] = 0\n",
    "\n",
    "\n",
    "    with open(filename, 'r') as csvfile:\n",
    "        csvreader = csv.reader(csvfile)\n",
    "        next(csvreader)\n",
    "        for row in csvreader:\n",
    "            if row[date_idx] == '':\n",
    "                continue\n",
    "\n",
    "            t = time.strptime(row[date_idx], date_parse)\n",
    "            if year == None:\n",
    "                if not t.tm_year in freq:\n",
    "                    freq[t.tm_year] = {}\n",
    "                    for period in range(0, int(days_in_year/bucket)):\n",
    "                        freq[t.tm_year][period] = 0\n",
    "                if t.tm_yday < (days_in_year-1):\n",
    "                    freq[t.tm_year][int(days_in_year/bucket)] += 1\n",
    "\n",
    "            else:\n",
    "                if t.tm_year == year and t.tm_yday < (days_in_year-1):\n",
    "                    freq[int(t.tm_yday / bucket)] += 1\n",
    "\n",
    "    return freq"
   ],
   "metadata": {
    "collapsed": false,
    "pycharm": {
     "name": "#%%\n"
    }
   }
  },
  {
   "cell_type": "code",
   "source": [
    "def split_dataset(x_dataset,y_dataset, ratio):\n",
    "    x_train,x_test,y_train,y_test = train_test_split(\n",
    "        x_dataset,\n",
    "        y_dataset,\n",
    "        train_size=ratio\n",
    "    )\n",
    "\n",
    "    return x_train,x_test,y_train,y_test"
   ],
   "metadata": {
    "collapsed": false,
    "pycharm": {
     "name": "#%%\n"
    }
   },
   "execution_count": 19,
   "outputs": []
  },
  {
   "cell_type": "markdown",
   "source": [
    "# READING THE 311 Data"
   ],
   "metadata": {
    "collapsed": false,
    "pycharm": {
     "name": "#%% md\n"
    }
   }
  },
  {
   "cell_type": "raw",
   "source": [
    "Take in the 311 data. I used the NYC 311 data. The format was basically the same except the times included hours, minutes, and seconds. One odd thing about it though - it looks like only a partial set of calls from the summer of 2014, so because of that, the data is super weird and looks more like a bell curve. That's fine, if you Google around, you'll see that the model that looks most like a bell curve is a 1 dimensional Gaussian function."
   ],
   "metadata": {
    "collapsed": false
   }
  },
  {
   "cell_type": "code",
   "execution_count": 3,
   "outputs": [],
   "source": [
    "freq = read(\"311.csv.csv\",1,\"%m/%d/%Y %H:%M:%S %p\", 2014)"
   ],
   "metadata": {
    "collapsed": false,
    "pycharm": {
     "name": "#%%\n"
    }
   }
  },
  {
   "cell_type": "code",
   "execution_count": 4,
   "outputs": [
    {
     "name": "stdout",
     "output_type": "stream",
     "text": [
      "shape of the Data:  52\n"
     ]
    }
   ],
   "source": [
    "print(\"shape of the Data: \",len(freq))"
   ],
   "metadata": {
    "collapsed": false,
    "pycharm": {
     "name": "#%%\n"
    }
   }
  },
  {
   "cell_type": "code",
   "execution_count": 5,
   "outputs": [],
   "source": [
    "x_train = np.asarray(list(freq.keys()))\n",
    "y_train = np.asarray(list(freq.values()))\n",
    "maxY = np.max(y_train)\n",
    "ny_train = y_train / maxY"
   ],
   "metadata": {
    "collapsed": false,
    "pycharm": {
     "name": "#%%\n"
    }
   }
  },
  {
   "cell_type": "code",
   "execution_count": 6,
   "outputs": [
    {
     "name": "stdout",
     "output_type": "stream",
     "text": [
      "Num samples:  52\n"
     ]
    }
   ],
   "source": [
    "print(\"Num samples: \",str(len(x_train)))"
   ],
   "metadata": {
    "collapsed": false,
    "pycharm": {
     "name": "#%%\n"
    }
   }
  },
  {
   "cell_type": "code",
   "execution_count": 25,
   "outputs": [
    {
     "name": "stdout",
     "output_type": "stream",
     "text": [
      "data:  {0: 0, 1: 0, 2: 0, 3: 0, 4: 0, 5: 0, 6: 0, 7: 0, 8: 0, 9: 0, 10: 0, 11: 0, 12: 0, 13: 0, 14: 0, 15: 0, 16: 0, 17: 0, 18: 0, 19: 0, 20: 0, 21: 11007, 22: 40636, 23: 42519, 24: 43107, 25: 42245, 26: 38769, 27: 42352, 28: 41406, 29: 39419, 30: 36438, 31: 39173, 32: 37408, 33: 37354, 34: 27074, 35: 0, 36: 0, 37: 0, 38: 0, 39: 0, 40: 0, 41: 0, 42: 0, 43: 0, 44: 0, 45: 0, 46: 0, 47: 0, 48: 0, 49: 0, 50: 0, 51: 0}\n"
     ]
    }
   ],
   "source": [
    "print(\"data: \", freq)"
   ],
   "metadata": {
    "collapsed": false,
    "pycharm": {
     "name": "#%%\n"
    }
   }
  },
  {
   "cell_type": "code",
   "execution_count": 7,
   "outputs": [],
   "source": [
    "import seaborn as sns\n",
    "import matplotlib.pyplot as plt\n",
    "sns.set_style(\"white\")"
   ],
   "metadata": {
    "collapsed": false,
    "pycharm": {
     "name": "#%%\n"
    }
   }
  },
  {
   "cell_type": "code",
   "execution_count": 24,
   "outputs": [
    {
     "data": {
      "text/plain": "<matplotlib.legend.Legend at 0x7fa731abdd10>"
     },
     "execution_count": 24,
     "metadata": {},
     "output_type": "execute_result"
    },
    {
     "data": {
      "text/plain": "<Figure size 960x640 with 1 Axes>",
      "image/png": "[encoded data removed]"
     },
     "metadata": {},
     "output_type": "display_data"
    }
   ],
   "source": [
    "plt.figure(\n",
    "    figsize=(12,8),\n",
    "    dpi=80,\n",
    "    facecolor=\"w\",\n",
    "    edgecolor=\"k\"\n",
    ")\n",
    "\n",
    "plt.scatter(x_train,y_train,s=40,label=\"weekly calls in 2014\")\n",
    "plt.gca().set(xlabel = \"# week\", ylabel=\"# calls\")\n",
    "plt.xticks(fontsize=16)\n",
    "plt.yticks(fontsize=16)\n",
    "plt.title(\"CALLS RECIEVED EACH WEEK IN 2014 - NYC\", fontsize=22)\n",
    "plt.legend(fontsize=16,loc=\"best\")"
   ],
   "metadata": {
    "collapsed": false,
    "pycharm": {
     "name": "#%%\n"
    }
   }
  },
  {
   "cell_type": "code",
   "execution_count": 28,
   "outputs": [],
   "source": [
    "learning_rate = 1.5\n",
    "training_epochs = 5000"
   ],
   "metadata": {
    "collapsed": false,
    "pycharm": {
     "name": "#%%\n"
    }
   }
  },
  {
   "cell_type": "code",
   "execution_count": 10,
   "outputs": [],
   "source": [
    "tfv.disable_eager_execution()"
   ],
   "metadata": {
    "collapsed": false,
    "pycharm": {
     "name": "#%%\n"
    }
   }
  },
  {
   "cell_type": "code",
   "execution_count": 11,
   "outputs": [],
   "source": [
    "X = tfv.placeholder(\n",
    "    tf.float32\n",
    ")\n",
    "Y = tfv.placeholder(tf.float32)"
   ],
   "metadata": {
    "collapsed": false,
    "pycharm": {
     "name": "#%%\n"
    }
   }
  },
  {
   "cell_type": "code",
   "execution_count": 12,
   "outputs": [],
   "source": [
    "def model(X,mu,sigma):\n",
    "    return tf.exp(tfv.div(tf.negative(tf.pow(tf.subtract(X, mu), 2.)), tf.multiply(2., tf.pow(sigma, 2.))))"
   ],
   "metadata": {
    "collapsed": false,
    "pycharm": {
     "name": "#%%\n"
    }
   }
  },
  {
   "cell_type": "code",
   "execution_count": 13,
   "outputs": [
    {
     "name": "stdout",
     "output_type": "stream",
     "text": [
      "WARNING:tensorflow:From /opt/anaconda3/envs/tf/lib/python3.7/site-packages/tensorflow_core/python/ops/resource_variable_ops.py:1630: calling BaseResourceVariable.__init__ (from tensorflow.python.ops.resource_variable_ops) with constraint is deprecated and will be removed in a future version.\n",
      "Instructions for updating:\n",
      "If using Keras pass *_constraint arguments to layers.\n"
     ]
    }
   ],
   "source": [
    "mu = tf.Variable(1., name=\"mu\")\n",
    "sigma = tf.Variable(1., name = \"sigma\")"
   ],
   "metadata": {
    "collapsed": false,
    "pycharm": {
     "name": "#%%\n"
    }
   }
  },
  {
   "cell_type": "code",
   "execution_count": 14,
   "outputs": [
    {
     "name": "stdout",
     "output_type": "stream",
     "text": [
      "WARNING:tensorflow:From /var/folders/xg/kx8b83fj56731jnc25ddztc40000gn/T/ipykernel_26251/2689184966.py:2: div (from tensorflow.python.ops.math_ops) is deprecated and will be removed in a future version.\n",
      "Instructions for updating:\n",
      "Deprecated in favor of operator or tf.math.divide.\n"
     ]
    }
   ],
   "source": [
    "y_model = model(X,mu,sigma)"
   ],
   "metadata": {
    "collapsed": false,
    "pycharm": {
     "name": "#%%\n"
    }
   }
  },
  {
   "cell_type": "code",
   "execution_count": 15,
   "outputs": [],
   "source": [
    "cost = tf.pow(tf.subtract(y_model,Y),2)"
   ],
   "metadata": {
    "collapsed": false,
    "pycharm": {
     "name": "#%%\n"
    }
   }
  },
  {
   "cell_type": "code",
   "execution_count": 30,
   "outputs": [],
   "source": [
    "train_op = tfv.train.GradientDescentOptimizer(learning_rate).minimize(cost)\n",
    "from tqdm.notebook import tqdm"
   ],
   "metadata": {
    "collapsed": false,
    "pycharm": {
     "name": "#%%\n"
    }
   }
  },
  {
   "cell_type": "code",
   "execution_count": 31,
   "outputs": [
    {
     "data": {
      "text/plain": "  0%|          | 0/5000 [00:00<?, ?it/s]",
      "application/vnd.jupyter.widget-view+json": {
       "version_major": 2,
       "version_minor": 0,
       "model_id": "c426558f877845078d984511677118ed"
      }
     },
     "metadata": {},
     "output_type": "display_data"
    }
   ],
   "source": [
    "sess = tfv.Session()\n",
    "init = tfv.global_variables_initializer()\n",
    "sess.run(init)\n",
    "for epoch in tqdm(range(training_epochs)):\n",
    "    for (x,y) in zip(x_train,ny_train):\n",
    "        sess.run(train_op,feed_dict={X:x,Y:y})\n",
    "\n",
    "\n",
    "mu_val = sess.run(mu)\n",
    "sig_val = sess.run(sigma)"
   ],
   "metadata": {
    "collapsed": false,
    "pycharm": {
     "name": "#%%\n"
    }
   }
  },
  {
   "cell_type": "code",
   "execution_count": 32,
   "outputs": [
    {
     "name": "stdout",
     "output_type": "stream",
     "text": [
      "mean:  27.231413\n",
      "std:  4.9024706\n"
     ]
    }
   ],
   "source": [
    "print(\"mean: \",mu_val)\n",
    "print(\"std: \",sig_val)"
   ],
   "metadata": {
    "collapsed": false,
    "pycharm": {
     "name": "#%%\n"
    }
   }
  },
  {
   "cell_type": "code",
   "execution_count": 34,
   "outputs": [],
   "source": [
    "# Closing the session:\n",
    "sess.close()"
   ],
   "metadata": {
    "collapsed": false,
    "pycharm": {
     "name": "#%%\n"
    }
   }
  },
  {
   "cell_type": "code",
   "execution_count": 41,
   "outputs": [
    {
     "data": {
      "text/plain": "<matplotlib.legend.Legend at 0x7fa7428b94d0>"
     },
     "execution_count": 41,
     "metadata": {},
     "output_type": "execute_result"
    },
    {
     "data": {
      "text/plain": "<Figure size 960x640 with 1 Axes>",
      "image/png": "[encoded data removed]"
     },
     "metadata": {},
     "output_type": "display_data"
    }
   ],
   "source": [
    "# plotting again:\n",
    "plt.figure(\n",
    "    figsize=(12,8),\n",
    "    dpi=80,\n",
    "    facecolor=\"w\",\n",
    "    edgecolor=\"k\"\n",
    ")\n",
    "\n",
    "\n",
    "\n",
    "plt.scatter(x_train,y_train,s=40,label=\"weekly calls in 2014\")\n",
    "try2 = maxY * (np.exp(-np.power(x_train-mu_val,2.) / (2 * np.power(sig_val,2.))))\n",
    "plt.plot(x_train,try2,label = \"learned curve\" , color = \"r\")\n",
    "plt.gca().set(xlabel = \"# week\", ylabel=\"# calls\")\n",
    "plt.xticks(fontsize=16)\n",
    "plt.yticks(fontsize=16)\n",
    "plt.title(\"CALLS RECEIVED EACH WEEK IN 2014 - NYC\", fontsize=22)\n",
    "plt.legend(fontsize=16,loc=\"best\")"
   ],
   "metadata": {
    "collapsed": false,
    "pycharm": {
     "name": "#%%\n"
    }
   }
  },
  {
   "cell_type": "code",
   "execution_count": 47,
   "outputs": [
    {
     "data": {
      "text/plain": "Text(0.5, 1.0, 'Error')"
     },
     "execution_count": 47,
     "metadata": {},
     "output_type": "execute_result"
    },
    {
     "data": {
      "text/plain": "<Figure size 960x640 with 1 Axes>",
      "image/png": "[encoded data removed]"
     },
     "metadata": {},
     "output_type": "display_data"
    }
   ],
   "source": [
    "#plotting the error:\n",
    "error = np.power(np.power(try2-y_train,2.),0.5)\n",
    "plt.figure(\n",
    "    figsize=(12,8),\n",
    "    dpi=80,\n",
    "    facecolor=\"w\",\n",
    "    edgecolor=\"k\"\n",
    ")\n",
    "\n",
    "\n",
    "\n",
    "plt.bar(x_train,error,label=\"Error\", color='g')\n",
    "plt.gca().set(xlabel = \"x_train\",ylabel = \"error\")\n",
    "plt.title(\"Error\", fontsize=22)"
   ],
   "metadata": {
    "collapsed": false,
    "pycharm": {
     "name": "#%%\n"
    }
   }
  },
  {
   "cell_type": "code",
   "execution_count": 48,
   "outputs": [
    {
     "name": "stdout",
     "output_type": "stream",
     "text": [
      "Avg ERROR:  208.08780826074533\n"
     ]
    }
   ],
   "source": [
    "avg_error = functools.reduce(lambda a,b: a+b, (try2-y_train))\n",
    "avg_error = np.abs(avg_error) / len(x_train)\n",
    "print(\"Avg ERROR: \",str(avg_error))"
   ],
   "metadata": {
    "collapsed": false,
    "pycharm": {
     "name": "#%%\n"
    }
   }
  },
  {
   "cell_type": "code",
   "execution_count": 49,
   "outputs": [
    {
     "name": "stdout",
     "output_type": "stream",
     "text": [
      "Accuracy is:  0.9951727606128762\n"
     ]
    }
   ],
   "source": [
    "acc = 1. - (avg_error/maxY)\n",
    "print(\"Accuracy is: \", str(acc))"
   ],
   "metadata": {
    "collapsed": false,
    "pycharm": {
     "name": "#%%\n"
    }
   }
  },
  {
   "cell_type": "code",
   "execution_count": null,
   "outputs": [],
   "source": [],
   "metadata": {
    "collapsed": false,
    "pycharm": {
     "name": "#%%\n"
    }
   }
  }
 ],
 "metadata": {
  "kernelspec": {
   "display_name": "Python 3",
   "language": "python",
   "name": "python3"
  },
  "language_info": {
   "codemirror_mode": {
    "name": "ipython",
    "version": 2
   },
   "file_extension": ".py",
   "mimetype": "text/x-python",
   "name": "python",
   "nbconvert_exporter": "python",
   "pygments_lexer": "ipython2",
   "version": "2.7.6"
  }
 },
 "nbformat": 4,
 "nbformat_minor": 0
}